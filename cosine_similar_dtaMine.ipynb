{
 "cells": [
  {
   "cell_type": "markdown",
   "metadata": {},
   "source": [
    "# `Cosine Similarity & Data Mining:`\n",
    "\n",
    "# <font color=red>Mr Fugu Data Science</font>\n",
    "\n",
    "# (◕‿◕✿)\n",
    "\n",
    "**`Help Support the channel: Buy Me A Coffee @mrfugudatasci`**\n"
   ]
  },
  {
   "cell_type": "code",
   "execution_count": 7,
   "metadata": {},
   "outputs": [],
   "source": [
    "import pandas as pd\n",
    "import re\n",
    "# import usaddress"
   ]
  },
  {
   "cell_type": "code",
   "execution_count": 6,
   "metadata": {},
   "outputs": [],
   "source": []
  },
  {
   "cell_type": "markdown",
   "metadata": {},
   "source": [
    "# `Cosine Similarity:`\n",
    "\n",
    "<font size=5>$\\cos \\theta = \\frac{\\vec a  \\, \\cdot \\, \\vec b}{||\\vec a|| \\, \\cdot \\, ||\\vec b||}$</font>\n",
    "\n",
    "measures the similarity of two vectors using the inner product. Commonly used with document comparisons for text mining. \n",
    "+ The angle measured between the two vectors tells you if they are in the same direction or not.\n",
    "    + The higher the values of $\\theta$, the lower the $cos (\\theta)$ and therefore the lower the similarity."
   ]
  },
  {
   "cell_type": "code",
   "execution_count": null,
   "metadata": {},
   "outputs": [],
   "source": []
  },
  {
   "cell_type": "code",
   "execution_count": null,
   "metadata": {},
   "outputs": [],
   "source": []
  },
  {
   "cell_type": "code",
   "execution_count": null,
   "metadata": {},
   "outputs": [],
   "source": []
  },
  {
   "cell_type": "markdown",
   "metadata": {},
   "source": [
    "# `Citations & Help:`\n",
    "\n",
    "# ◔̯◔\n",
    "\n",
    "https://t4tutorials.com/cosine-similarity-in-data-mining/\n",
    "\n",
    "https://www.machinelearningplus.com/nlp/cosine-similarity/\n",
    "\n",
    "https://www.sciencedirect.com/topics/computer-science/cosine-similarity\n",
    "\n"
   ]
  }
 ],
 "metadata": {
  "kernelspec": {
   "display_name": "Python 3",
   "language": "python",
   "name": "python3"
  },
  "language_info": {
   "codemirror_mode": {
    "name": "ipython",
    "version": 3
   },
   "file_extension": ".py",
   "mimetype": "text/x-python",
   "name": "python",
   "nbconvert_exporter": "python",
   "pygments_lexer": "ipython3",
   "version": "3.7.3"
  }
 },
 "nbformat": 4,
 "nbformat_minor": 4
}
